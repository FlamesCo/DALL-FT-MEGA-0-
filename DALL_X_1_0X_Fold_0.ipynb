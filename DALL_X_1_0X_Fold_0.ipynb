{
  "cells": [
    {
      "cell_type": "markdown",
      "metadata": {
        "id": "view-in-github",
        "colab_type": "text"
      },
      "source": [
        "<a href=\"https://colab.research.google.com/github/FlamesLLC/DALL-FT-MEGA-0-/blob/main/DALL_X_1_0X_Fold_0.ipynb\" target=\"_parent\"><img src=\"https://colab.research.google.com/assets/colab-badge.svg\" alt=\"Open In Colab\"/></a>"
      ]
    },
    {
      "cell_type": "markdown",
      "id": "e13ed1c4",
      "metadata": {
        "pycharm": {
          "name": "#%% md\n"
        },
        "id": "e13ed1c4"
      },
      "source": [
        "<p align=\"center\">\n",
        "<a href=\"https://github.com/jina-ai/dalle\"><img src=\"https://res.cloudinary.com/startup-grind/image/upload/c_fill,dpr_2.0,f_auto,g_xy_center,h_650,q_auto:good,w_1440,x_w_mul_0.5,y_h_mul_0.0/v1/gcs/platform-data-dsc/event_banners/banner_8XSoAdr.png?md\" alt=\"DALL·E Flow: A Human-in-the-Loop workflow for creating HD images from text\" width=\"100%\"></a>\n",
        "<br>\n",
        "</p>\n",
        "\n",
        "\n",
        "<b>A Human-in-the-Loop<sup><a href=\"https://en.wikipedia.org/wiki/Human-in-the-loop\">?</a></sup> workflow for creating HD images from text</b>"
      ]
    },
    {
      "cell_type": "markdown",
      "id": "0836667a",
      "metadata": {
        "pycharm": {
          "name": "#%% md\n"
        },
        "id": "0836667a"
      },
      "source": [
        "[![GitHub Repo stars](https://img.shields.io/github/stars/jina-ai/dalle-flow?style=social)](https://github.com/jina-ai/dalle-flow) [![Google Colab](https://img.shields.io/badge/Slack-2.8k-blueviolet?logo=slack&amp;logoColor=white&style=flat-square)](https://slack.jina.ai) [![GitHub last commit (branch)](https://img.shields.io/github/last-commit/jina-ai/dalle-flow/main)](https://colab.research.google.com/github/jina-ai/dalle-flow/blob/main/client.ipynb)"
      ]
    },
    {
      "cell_type": "markdown",
      "id": "f11f924b",
      "metadata": {
        "pycharm": {
          "name": "#%% md\n"
        },
        "id": "f11f924b"
      },
      "source": [
        "\n",
        "\n",
        "🚧 If you find your request fails, it is possible the server is occasionally down for maintaince. Please give it a try in 5 minutes.\n",
        "\n",
        "- ⚠️ **2022/6/25** Unexpected downtime between 6/25 0:00 - 12:00 CET due to out of GPU quotas. The new server now has 2 GPUs, add healthcheck.\n",
        "- 2022/6/3 Reduce default number of images to 2 per pathway, 4 for diffusion.\n",
        "- ⚠️ 2022/5/23 Fix an upstream bug in CLIP-as-service. This bug makes the 2nd diffusion step irrelevant to the given texts. New Dockerfile proved to be reproducible on a AWS EC2 `p2.x8large` instance.\n",
        "- 2022/5/13b Removing TLS as Cloudflare gives 100s timeout, making DALLE Flow in usable [Please _reopen_ the notebook in Google Colab!](https://colab.research.google.com/github/jina-ai/dalle-flow/blob/main/client.ipynb).\n",
        "- 🔐 2022/5/13 New Mega checkpoint! All connections are now with TLS, [Please _reopen_ the notebook in Google Colab!](https://colab.research.google.com/github/jina-ai/dalle-flow/blob/main/client.ipynb).\n",
        "- 🌟 2022/5/10 [A Dockerfile is added! Now you can easily deploy your own DALL·E Flow](https://github.com/jina-ai/dalle-flow). New Mega checkpoint! Smaller memory-footprint, the whole Flow can now fit into **one GPU with 21GB memory**.\n",
        "- 🌟 2022/5/9 Less memory-footprint overall, the whole Flow can now fit into one GPU with 18GB memory!\n",
        "- 🌟 2022/5/7 DALL·E Flow just got updated!\n",
        "    - New DALL·E Mega checkpoint\n",
        "    - Improved GLID3 memory-efficiency and parameters\n",
        "- 🌟 2022/5/6 DALL·E Flow just got updated!\n",
        "    - The first step will generate 16 candidates: **8 from DALL·E Mega, 8 from GLID3-XL**; ranked by CLIP-as-service.\n",
        "    - Optimized the flow efficiency, diffusion and upscaling is much faster now!\n",
        "- ~~⚠️ 2022/5/3 **The number of images is restrict to 9 for DALL·E Mega, and 16 for GLID3-XL**~~\n",
        "- ⚠️ 2022/5/2 **Due to the massive requests now, the server is super busy.** You can deploy your own server by following [the instruction here](https://github.com/jina-ai/dalle-flow#server).\n"
      ]
    },
    {
      "cell_type": "markdown",
      "id": "e6af8cfd",
      "metadata": {
        "pycharm": {
          "name": "#%% md\n"
        },
        "id": "e6af8cfd"
      },
      "source": [
        "Using client is super easy. The following steps are best run in Jupyter notebook or [Google Colab](https://colab.research.google.com/github/jina-ai/dalle-flow/blob/main/client.ipynb).  \n",
        "\n",
        "The only dependency you will need are [DocArray](https://github.com/jina-ai/docarray) and [Jina](https://github.com/jina-ai/jina), as DocArray is already included in Jina you only need to install `jina`.\n",
        "\n",
        "> On Google Colab, you will be asked to restart the kernel. Go ahead and restart."
      ]
    },
    {
      "cell_type": "code",
      "execution_count": null,
      "id": "c95e266f",
      "metadata": {
        "pycharm": {
          "name": "#%%\n"
        },
        "id": "c95e266f",
        "colab": {
          "base_uri": "https://localhost:8080/",
          "height": 1000
        },
        "outputId": "5b8a0475-cdc5-4363-a6b1-858826fc68c7"
      },
      "outputs": [
        {
          "output_type": "stream",
          "name": "stdout",
          "text": [
            "Looking in indexes: https://pypi.org/simple, https://us-python.pkg.dev/colab-wheels/public/simple/\n",
            "Collecting jina\n",
            "  Downloading jina-3.6.8.tar.gz (216 kB)\n",
            "\u001b[K     |████████████████████████████████| 216 kB 5.3 MB/s \n",
            "\u001b[?25hCollecting docarray[common]>=0.13.14\n",
            "  Downloading docarray-0.13.24.tar.gz (630 kB)\n",
            "\u001b[K     |████████████████████████████████| 630 kB 52.9 MB/s \n",
            "\u001b[?25hCollecting cryptography\n",
            "  Downloading cryptography-37.0.2-cp36-abi3-manylinux_2_24_x86_64.whl (4.0 MB)\n",
            "\u001b[K     |████████████████████████████████| 4.0 MB 48.1 MB/s \n",
            "\u001b[?25hRequirement already satisfied: filelock in /usr/local/lib/python3.7/dist-packages (from jina) (3.7.1)\n",
            "Collecting uvloop\n",
            "  Downloading uvloop-0.16.0-cp37-cp37m-manylinux_2_12_x86_64.manylinux2010_x86_64.whl (3.8 MB)\n",
            "\u001b[K     |████████████████████████████████| 3.8 MB 45.4 MB/s \n",
            "\u001b[?25hCollecting aiostream\n",
            "  Downloading aiostream-0.4.4.tar.gz (32 kB)\n",
            "Collecting grpcio-health-checking>=1.46.0\n",
            "  Downloading grpcio_health_checking-1.47.0-py3-none-any.whl (13 kB)\n",
            "Collecting grpcio-reflection>=1.46.0\n",
            "  Downloading grpcio_reflection-1.47.0-py3-none-any.whl (16 kB)\n",
            "Collecting python-multipart\n",
            "  Downloading python-multipart-0.0.5.tar.gz (32 kB)\n",
            "Requirement already satisfied: grpcio>=1.46.0 in /usr/local/lib/python3.7/dist-packages (from jina) (1.46.3)\n",
            "Collecting uvicorn[standard]\n",
            "  Downloading uvicorn-0.18.2-py3-none-any.whl (57 kB)\n",
            "\u001b[K     |████████████████████████████████| 57 kB 4.8 MB/s \n",
            "\u001b[?25hCollecting pathspec\n",
            "  Downloading pathspec-0.9.0-py2.py3-none-any.whl (31 kB)\n",
            "Collecting fastapi>=0.76.0\n",
            "  Downloading fastapi-0.78.0-py3-none-any.whl (54 kB)\n",
            "\u001b[K     |████████████████████████████████| 54 kB 2.7 MB/s \n",
            "\u001b[?25hRequirement already satisfied: prometheus_client in /usr/local/lib/python3.7/dist-packages (from jina) (0.14.1)\n",
            "Collecting docker\n",
            "  Downloading docker-5.0.3-py2.py3-none-any.whl (146 kB)\n",
            "\u001b[K     |████████████████████████████████| 146 kB 52.3 MB/s \n",
            "\u001b[?25hCollecting aiofiles\n",
            "  Downloading aiofiles-0.8.0-py3-none-any.whl (13 kB)\n",
            "Requirement already satisfied: numpy in /usr/local/lib/python3.7/dist-packages (from jina) (1.21.6)\n",
            "Requirement already satisfied: requests in /usr/local/lib/python3.7/dist-packages (from jina) (2.23.0)\n",
            "Collecting protobuf<=3.20.1,>=3.19.1\n",
            "  Downloading protobuf-3.20.1-cp37-cp37m-manylinux_2_5_x86_64.manylinux1_x86_64.whl (1.0 MB)\n",
            "\u001b[K     |████████████████████████████████| 1.0 MB 56.0 MB/s \n",
            "\u001b[?25hCollecting websockets\n",
            "  Downloading websockets-10.3-cp37-cp37m-manylinux_2_5_x86_64.manylinux1_x86_64.manylinux_2_12_x86_64.manylinux2010_x86_64.whl (112 kB)\n",
            "\u001b[K     |████████████████████████████████| 112 kB 65.6 MB/s \n",
            "\u001b[?25hRequirement already satisfied: pydantic in /usr/local/lib/python3.7/dist-packages (from jina) (1.8.2)\n",
            "Collecting aiohttp\n",
            "  Downloading aiohttp-3.8.1-cp37-cp37m-manylinux_2_5_x86_64.manylinux1_x86_64.manylinux_2_12_x86_64.manylinux2010_x86_64.whl (1.1 MB)\n",
            "\u001b[K     |████████████████████████████████| 1.1 MB 68.1 MB/s \n",
            "\u001b[?25hRequirement already satisfied: packaging>=20.0 in /usr/local/lib/python3.7/dist-packages (from jina) (21.3)\n",
            "Collecting pyyaml>=5.3.1\n",
            "  Downloading PyYAML-6.0-cp37-cp37m-manylinux_2_5_x86_64.manylinux1_x86_64.manylinux_2_12_x86_64.manylinux2010_x86_64.whl (596 kB)\n",
            "\u001b[K     |████████████████████████████████| 596 kB 50.2 MB/s \n",
            "\u001b[?25hCollecting rich>=12.0.0\n",
            "  Downloading rich-12.4.4-py3-none-any.whl (232 kB)\n",
            "\u001b[K     |████████████████████████████████| 232 kB 58.0 MB/s \n",
            "\u001b[?25hCollecting lz4\n",
            "  Downloading lz4-4.0.1-cp37-cp37m-manylinux_2_17_x86_64.manylinux2014_x86_64.whl (1.2 MB)\n",
            "\u001b[K     |████████████████████████████████| 1.2 MB 57.5 MB/s \n",
            "\u001b[?25hRequirement already satisfied: matplotlib in /usr/local/lib/python3.7/dist-packages (from docarray[common]>=0.13.14->jina) (3.2.2)\n",
            "Requirement already satisfied: Pillow in /usr/local/lib/python3.7/dist-packages (from docarray[common]>=0.13.14->jina) (7.1.2)\n",
            "Collecting starlette==0.19.1\n",
            "  Downloading starlette-0.19.1-py3-none-any.whl (63 kB)\n",
            "\u001b[K     |████████████████████████████████| 63 kB 1.9 MB/s \n",
            "\u001b[?25hCollecting anyio<5,>=3.4.0\n",
            "  Downloading anyio-3.6.1-py3-none-any.whl (80 kB)\n",
            "\u001b[K     |████████████████████████████████| 80 kB 9.0 MB/s \n",
            "\u001b[?25hRequirement already satisfied: typing-extensions>=3.10.0 in /usr/local/lib/python3.7/dist-packages (from starlette==0.19.1->fastapi>=0.76.0->jina) (4.1.1)\n",
            "Collecting sniffio>=1.1\n",
            "  Downloading sniffio-1.2.0-py3-none-any.whl (10 kB)\n",
            "Requirement already satisfied: idna>=2.8 in /usr/local/lib/python3.7/dist-packages (from anyio<5,>=3.4.0->starlette==0.19.1->fastapi>=0.76.0->jina) (2.10)\n",
            "Requirement already satisfied: six>=1.5.2 in /usr/local/lib/python3.7/dist-packages (from grpcio>=1.46.0->jina) (1.15.0)\n",
            "Collecting grpcio>=1.46.0\n",
            "  Downloading grpcio-1.47.0-cp37-cp37m-manylinux_2_17_x86_64.manylinux2014_x86_64.whl (4.5 MB)\n",
            "\u001b[K     |████████████████████████████████| 4.5 MB 51.0 MB/s \n",
            "\u001b[?25hRequirement already satisfied: pyparsing!=3.0.5,>=2.0.2 in /usr/local/lib/python3.7/dist-packages (from packaging>=20.0->jina) (3.0.9)\n",
            "Collecting commonmark<0.10.0,>=0.9.0\n",
            "  Downloading commonmark-0.9.1-py2.py3-none-any.whl (51 kB)\n",
            "\u001b[K     |████████████████████████████████| 51 kB 6.9 MB/s \n",
            "\u001b[?25hRequirement already satisfied: pygments<3.0.0,>=2.6.0 in /usr/local/lib/python3.7/dist-packages (from rich>=12.0.0->docarray[common]>=0.13.14->jina) (2.6.1)\n",
            "Requirement already satisfied: attrs>=17.3.0 in /usr/local/lib/python3.7/dist-packages (from aiohttp->jina) (21.4.0)\n",
            "Collecting frozenlist>=1.1.1\n",
            "  Downloading frozenlist-1.3.0-cp37-cp37m-manylinux_2_5_x86_64.manylinux1_x86_64.manylinux_2_17_x86_64.manylinux2014_x86_64.whl (144 kB)\n",
            "\u001b[K     |████████████████████████████████| 144 kB 44.3 MB/s \n",
            "\u001b[?25hRequirement already satisfied: charset-normalizer<3.0,>=2.0 in /usr/local/lib/python3.7/dist-packages (from aiohttp->jina) (2.0.12)\n",
            "Collecting multidict<7.0,>=4.5\n",
            "  Downloading multidict-6.0.2-cp37-cp37m-manylinux_2_17_x86_64.manylinux2014_x86_64.whl (94 kB)\n",
            "\u001b[K     |████████████████████████████████| 94 kB 3.8 MB/s \n",
            "\u001b[?25hCollecting aiosignal>=1.1.2\n",
            "  Downloading aiosignal-1.2.0-py3-none-any.whl (8.2 kB)\n",
            "Collecting asynctest==0.13.0\n",
            "  Downloading asynctest-0.13.0-py3-none-any.whl (26 kB)\n",
            "Collecting async-timeout<5.0,>=4.0.0a3\n",
            "  Downloading async_timeout-4.0.2-py3-none-any.whl (5.8 kB)\n",
            "Collecting yarl<2.0,>=1.0\n",
            "  Downloading yarl-1.7.2-cp37-cp37m-manylinux_2_5_x86_64.manylinux1_x86_64.manylinux_2_12_x86_64.manylinux2010_x86_64.whl (271 kB)\n",
            "\u001b[K     |████████████████████████████████| 271 kB 45.2 MB/s \n",
            "\u001b[?25hRequirement already satisfied: cffi>=1.12 in /usr/local/lib/python3.7/dist-packages (from cryptography->jina) (1.15.0)\n",
            "Requirement already satisfied: pycparser in /usr/local/lib/python3.7/dist-packages (from cffi>=1.12->cryptography->jina) (2.21)\n",
            "Collecting websocket-client>=0.32.0\n",
            "  Downloading websocket_client-1.3.3-py3-none-any.whl (54 kB)\n",
            "\u001b[K     |████████████████████████████████| 54 kB 2.3 MB/s \n",
            "\u001b[?25hRequirement already satisfied: certifi>=2017.4.17 in /usr/local/lib/python3.7/dist-packages (from requests->jina) (2022.6.15)\n",
            "Requirement already satisfied: urllib3!=1.25.0,!=1.25.1,<1.26,>=1.21.1 in /usr/local/lib/python3.7/dist-packages (from requests->jina) (1.24.3)\n",
            "Requirement already satisfied: chardet<4,>=3.0.2 in /usr/local/lib/python3.7/dist-packages (from requests->jina) (3.0.4)\n",
            "Requirement already satisfied: python-dateutil>=2.1 in /usr/local/lib/python3.7/dist-packages (from matplotlib->docarray[common]>=0.13.14->jina) (2.8.2)\n",
            "Requirement already satisfied: kiwisolver>=1.0.1 in /usr/local/lib/python3.7/dist-packages (from matplotlib->docarray[common]>=0.13.14->jina) (1.4.3)\n",
            "Requirement already satisfied: cycler>=0.10 in /usr/local/lib/python3.7/dist-packages (from matplotlib->docarray[common]>=0.13.14->jina) (0.11.0)\n",
            "Requirement already satisfied: click>=7.0 in /usr/local/lib/python3.7/dist-packages (from uvicorn[standard]->jina) (7.1.2)\n",
            "Collecting h11>=0.8\n",
            "  Downloading h11-0.13.0-py3-none-any.whl (58 kB)\n",
            "\u001b[K     |████████████████████████████████| 58 kB 6.1 MB/s \n",
            "\u001b[?25hCollecting watchfiles>=0.13\n",
            "  Downloading watchfiles-0.15.0-cp37-abi3-manylinux_2_12_x86_64.manylinux2010_x86_64.whl (1.2 MB)\n",
            "\u001b[K     |████████████████████████████████| 1.2 MB 58.5 MB/s \n",
            "\u001b[?25hCollecting python-dotenv>=0.13\n",
            "  Downloading python_dotenv-0.20.0-py3-none-any.whl (17 kB)\n",
            "Collecting httptools>=0.4.0\n",
            "  Downloading httptools-0.4.0-cp37-cp37m-manylinux_2_5_x86_64.manylinux1_x86_64.manylinux_2_12_x86_64.manylinux2010_x86_64.whl (406 kB)\n",
            "\u001b[K     |████████████████████████████████| 406 kB 71.4 MB/s \n",
            "\u001b[?25hBuilding wheels for collected packages: jina, docarray, aiostream, python-multipart\n",
            "  Building wheel for jina (setup.py) ... \u001b[?25l\u001b[?25hdone\n",
            "  Created wheel for jina: filename=jina-3.6.8-py3-none-any.whl size=276499 sha256=05fb7cbe4a9e06206c7c34bde34c459331fa33a49c05b413d6a95766f6baa89f\n",
            "  Stored in directory: /root/.cache/pip/wheels/8e/d6/68/9a43b07cfe24d38f739547903e8af76d7f417215daf38383e5\n",
            "  Building wheel for docarray (setup.py) ... \u001b[?25l\u001b[?25hdone\n",
            "  Created wheel for docarray: filename=docarray-0.13.24-py3-none-any.whl size=674868 sha256=45195efac3a82715360b5c8d7be8f2e943c7019f6b9686172157971efbdbfdc4\n",
            "  Stored in directory: /root/.cache/pip/wheels/57/b1/6d/999077f33f165387cd4658d96a1a2193eb830747ee4fd713b9\n",
            "  Building wheel for aiostream (setup.py) ... \u001b[?25l\u001b[?25hdone\n",
            "  Created wheel for aiostream: filename=aiostream-0.4.4-py3-none-any.whl size=35648 sha256=e5646a982170fbd647f5f09d5f81555719cffe2e1bb0a734b40bd1b4bdf93559\n",
            "  Stored in directory: /root/.cache/pip/wheels/4f/21/19/0141f098b792ee743e77c609bc0d42e7742b1f66db58f56cd9\n",
            "  Building wheel for python-multipart (setup.py) ... \u001b[?25l\u001b[?25hdone\n",
            "  Created wheel for python-multipart: filename=python_multipart-0.0.5-py3-none-any.whl size=31678 sha256=8220a0fa4671a937c02c8596b8ad5e6537c9aa8d982574146a20b8b69191c946\n",
            "  Stored in directory: /root/.cache/pip/wheels/2c/41/7c/bfd1c180534ffdcc0972f78c5758f89881602175d48a8bcd2c\n",
            "Successfully built jina docarray aiostream python-multipart\n",
            "Installing collected packages: sniffio, commonmark, anyio, starlette, rich, multidict, h11, frozenlist, yarl, websockets, websocket-client, watchfiles, uvloop, uvicorn, pyyaml, python-dotenv, protobuf, lz4, httptools, grpcio, fastapi, docarray, asynctest, async-timeout, aiosignal, python-multipart, pathspec, grpcio-reflection, grpcio-health-checking, docker, cryptography, aiostream, aiohttp, aiofiles, jina\n",
            "  Attempting uninstall: pyyaml\n",
            "    Found existing installation: PyYAML 3.13\n",
            "    Uninstalling PyYAML-3.13:\n",
            "      Successfully uninstalled PyYAML-3.13\n",
            "  Attempting uninstall: protobuf\n",
            "    Found existing installation: protobuf 3.17.3\n",
            "    Uninstalling protobuf-3.17.3:\n",
            "      Successfully uninstalled protobuf-3.17.3\n",
            "  Attempting uninstall: grpcio\n",
            "    Found existing installation: grpcio 1.46.3\n",
            "    Uninstalling grpcio-1.46.3:\n",
            "      Successfully uninstalled grpcio-1.46.3\n",
            "\u001b[31mERROR: pip's dependency resolver does not currently take into account all the packages that are installed. This behaviour is the source of the following dependency conflicts.\n",
            "tensorflow 2.8.2+zzzcolab20220527125636 requires protobuf<3.20,>=3.9.2, but you have protobuf 3.20.1 which is incompatible.\u001b[0m\n",
            "Successfully installed aiofiles-0.8.0 aiohttp-3.8.1 aiosignal-1.2.0 aiostream-0.4.4 anyio-3.6.1 async-timeout-4.0.2 asynctest-0.13.0 commonmark-0.9.1 cryptography-37.0.2 docarray-0.13.24 docker-5.0.3 fastapi-0.78.0 frozenlist-1.3.0 grpcio-1.47.0 grpcio-health-checking-1.47.0 grpcio-reflection-1.47.0 h11-0.13.0 httptools-0.4.0 jina-3.6.8 lz4-4.0.1 multidict-6.0.2 pathspec-0.9.0 protobuf-3.20.1 python-dotenv-0.20.0 python-multipart-0.0.5 pyyaml-6.0 rich-12.4.4 sniffio-1.2.0 starlette-0.19.1 uvicorn-0.18.2 uvloop-0.16.0 watchfiles-0.15.0 websocket-client-1.3.3 websockets-10.3 yarl-1.7.2\n"
          ]
        },
        {
          "output_type": "display_data",
          "data": {
            "application/vnd.colab-display-data+json": {
              "pip_warning": {
                "packages": [
                  "google"
                ]
              }
            }
          },
          "metadata": {}
        }
      ],
      "source": [
        "!pip install jina"
      ]
    },
    {
      "cell_type": "markdown",
      "id": "3059e59c",
      "metadata": {
        "pycharm": {
          "name": "#%%\n"
        },
        "id": "3059e59c"
      },
      "source": [
        "We have provided a demo server for you to play:"
      ]
    },
    {
      "cell_type": "code",
      "execution_count": 1,
      "id": "3f1bb189",
      "metadata": {
        "pycharm": {
          "name": "#%%\n"
        },
        "id": "3f1bb189"
      },
      "outputs": [],
      "source": [
        "server_url = 'grpc://dalle-flow.jina.ai:51005'"
      ]
    },
    {
      "cell_type": "markdown",
      "id": "a8e896c8",
      "metadata": {
        "id": "a8e896c8"
      },
      "source": [
        "## (optional) Check how many pending requests on the server\n",
        "\n",
        "Our demo server can be very very crowded, hence when running the code below it may take unexpected long time. \n",
        "\n",
        "Fortunately, [Jina](https://github.com/jina-ai/jina) has integrated [Prometheus](https://prometheus.io/) which allows user to check the status of the server. In particular, in this case we are interested in the number queuing/pending requests, which gives us an idea how crowd is the server."
      ]
    },
    {
      "cell_type": "code",
      "execution_count": 2,
      "id": "c7b752e8",
      "metadata": {
        "id": "c7b752e8",
        "outputId": "335f7af4-1b63-4e17-fc30-7f1fe2eab945",
        "colab": {
          "base_uri": "https://localhost:8080/"
        }
      },
      "outputs": [
        {
          "output_type": "stream",
          "name": "stdout",
          "text": [
            "1178.0\n"
          ]
        }
      ],
      "source": [
        "!curl -s http://dalle-flow.jina.ai:51006  | grep 'jina_number_of_pending_requests{runtime_name=\"gateway/rep-0/GRPCGatewayRuntime\"}' | cut -d' ' -f 2"
      ]
    },
    {
      "cell_type": "markdown",
      "id": "72aacbed",
      "metadata": {
        "pycharm": {
          "name": "#%% md\n"
        },
        "id": "72aacbed"
      },
      "source": [
        "### Step 1: Generate via DALL·E Mega\n",
        "\n",
        "Now let's define the prompt:"
      ]
    },
    {
      "cell_type": "code",
      "execution_count": null,
      "id": "ac1ec094",
      "metadata": {
        "pycharm": {
          "name": "#%%\n"
        },
        "id": "ac1ec094"
      },
      "outputs": [],
      "source": [
        "prompt = 'an oil painting of a humanoid robot playing chess in the style of Matisse'"
      ]
    },
    {
      "cell_type": "markdown",
      "id": "de6d7244",
      "metadata": {
        "id": "de6d7244"
      },
      "source": [
        "Do you need some hints and suggestions on the prompt? Check out those tricks:\n",
        " - [A Guide to Writing Prompts for Text-to-image AI](https://docs.google.com/document/d/17VPu3U2qXthOpt2zWczFvf-AH6z37hxUbvEe1rJTsEc/edit?usp=sharing)\n",
        " - [CLIP Templates](https://docs.google.com/document/d/1j2IAumYz4iZopOTAAOcCUKbFXP0jHK8mRgD4NLFKkaw/edit?usp=sharing)"
      ]
    },
    {
      "cell_type": "markdown",
      "id": "69d0b10b",
      "metadata": {
        "pycharm": {
          "name": "#%% md\n"
        },
        "id": "69d0b10b"
      },
      "source": [
        "Let's submit it to the server and visualize the results:"
      ]
    },
    {
      "cell_type": "code",
      "execution_count": null,
      "id": "da672930",
      "metadata": {
        "pycharm": {
          "name": "#%%\n"
        },
        "id": "da672930"
      },
      "outputs": [],
      "source": [
        "%%time\n",
        "\n",
        "from docarray import Document\n",
        "\n",
        "da = Document(text=prompt).post(server_url, parameters={'num_images': 2}).matches\n",
        "\n",
        "da.plot_image_sprites(fig_size=(10,10), show_index=True)"
      ]
    },
    {
      "cell_type": "markdown",
      "id": "9298f59f",
      "metadata": {
        "pycharm": {
          "name": "#%% md\n"
        },
        "id": "9298f59f"
      },
      "source": [
        "Here we generate 4 candidates, 2 from DALLE-mega and 2 from GLID3 XL, this is as defined in `num_images`, which takes about ~2 minutes. You can use a smaller value if it is too long for you. The results are sorted by [CLIP-as-service](https://github.com/jina-ai/clip-as-service), with index-`0` as the best candidate judged by CLIP. \n",
        "\n",
        "> You could generate up to 8 images per pathway via `num_images`, resulting 16 candidate images in total. But it will be much slower."
      ]
    },
    {
      "cell_type": "markdown",
      "id": "3bf3a62b",
      "metadata": {
        "pycharm": {
          "name": "#%% md\n"
        },
        "id": "3bf3a62b"
      },
      "source": [
        "### Step 2: Select and refinement via GLID3 XL\n",
        "\n",
        "Of course, you may think differently. Notice the number in the top-left corner? Select the one you like the most and get a better view:"
      ]
    },
    {
      "cell_type": "code",
      "execution_count": null,
      "id": "8e106718",
      "metadata": {
        "pycharm": {
          "name": "#%%\n"
        },
        "id": "8e106718"
      },
      "outputs": [],
      "source": [
        "fav_id = 3\n",
        "\n",
        "fav = da[fav_id]\n",
        "\n",
        "fav.display()"
      ]
    },
    {
      "cell_type": "markdown",
      "id": "eec3e4ea",
      "metadata": {
        "pycharm": {
          "name": "#%% md\n"
        },
        "id": "eec3e4ea"
      },
      "source": [
        "Now let's submit the selected candidates to the server for diffusion."
      ]
    },
    {
      "cell_type": "code",
      "execution_count": null,
      "id": "13cf87ce",
      "metadata": {
        "pycharm": {
          "name": "#%%\n"
        },
        "id": "13cf87ce"
      },
      "outputs": [],
      "source": [
        "%%time\n",
        "\n",
        "diffused = fav.post(f'{server_url}', parameters={'skip_rate': 0.6, 'num_images': 4}, target_executor='diffusion').matches\n",
        "\n",
        "diffused.plot_image_sprites(fig_size=(10,10), show_index=True)"
      ]
    },
    {
      "cell_type": "markdown",
      "id": "fbb54ed9",
      "metadata": {
        "pycharm": {
          "name": "#%% md\n"
        },
        "id": "fbb54ed9"
      },
      "source": [
        "This will give 4 images based on the given image. You may allow the model to improvise more by giving `skip_rate` a near-zero value, or a near-one value to force its closeness to the given image. The whole procedure takes about ~1 minutes.\n",
        "\n",
        "> You could generate upto 8 images via `num_images`. But it will be slower."
      ]
    },
    {
      "cell_type": "markdown",
      "id": "978ccf66",
      "metadata": {
        "pycharm": {
          "name": "#%% md\n"
        },
        "id": "978ccf66"
      },
      "source": [
        "### Step 3: Select and upscale via SwinIR\n",
        "\n",
        "Select the image you like the most, and give it a closer look:\n"
      ]
    },
    {
      "cell_type": "code",
      "execution_count": null,
      "id": "7f00f44e",
      "metadata": {
        "pycharm": {
          "name": "#%%\n"
        },
        "id": "7f00f44e"
      },
      "outputs": [],
      "source": [
        "dfav_id = 2\n",
        "\n",
        "fav = diffused[dfav_id]\n",
        "\n",
        "fav.display()"
      ]
    },
    {
      "cell_type": "markdown",
      "id": "ab54a790",
      "metadata": {
        "pycharm": {
          "name": "#%% md\n"
        },
        "id": "ab54a790"
      },
      "source": [
        "If not satisfied, you can rerun the last cell in step 2 with this new `fav`.\n",
        "\n",
        "Finally, submit to the server for the last step: upscaling to 1024 x 1024px.\n",
        "\n",
        "> This step should be much faster (~10s) as the Flow is designed in unblocked manner."
      ]
    },
    {
      "cell_type": "code",
      "execution_count": null,
      "id": "b60e8bfc",
      "metadata": {
        "pycharm": {
          "name": "#%%\n"
        },
        "id": "b60e8bfc"
      },
      "outputs": [],
      "source": [
        "%%time\n",
        "\n",
        "fav = fav.post(f'{server_url}/upscale')\n",
        "fav.display()"
      ]
    },
    {
      "cell_type": "markdown",
      "id": "e910e8aa",
      "metadata": {
        "pycharm": {
          "name": "#%%\n"
        },
        "id": "e910e8aa"
      },
      "source": [
        "> 💁‍♂️ On Google colab this image may render exactly the same size as before. But it is in 1024x1024 already. Right click on the image and copy/save it. You will see.\n",
        "\n",
        "That's it! It is _the one_.\n",
        "\n",
        "\n",
        "Btw, [DocArray is a powerful and easy-to-use data structure for unstructured data](https://github.com/jina-ai/docarray), that makes all of these possible. It is super productive for data scientists who work in cross-/multi-modal domain. To learn more about DocArray, [please check out the docs](https://docarray.jina.ai)."
      ]
    }
  ],
  "metadata": {
    "kernelspec": {
      "display_name": "Python 3 (ipykernel)",
      "language": "python",
      "name": "python3"
    },
    "language_info": {
      "codemirror_mode": {
        "name": "ipython",
        "version": 3
      },
      "file_extension": ".py",
      "mimetype": "text/x-python",
      "name": "python",
      "nbconvert_exporter": "python",
      "pygments_lexer": "ipython3",
      "version": "3.7.9"
    },
    "colab": {
      "name": "DALL-X 1.0X Fold #0.ipynb",
      "provenance": [],
      "include_colab_link": true
    },
    "accelerator": "TPU",
    "gpuClass": "standard"
  },
  "nbformat": 4,
  "nbformat_minor": 5
}